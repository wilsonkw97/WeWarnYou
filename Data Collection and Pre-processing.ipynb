{
 "cells": [
  {
   "cell_type": "code",
   "execution_count": 1,
   "id": "790a804b",
   "metadata": {
    "ExecuteTime": {
     "end_time": "2022-01-06T03:36:23.393449Z",
     "start_time": "2022-01-06T03:36:22.928689Z"
    }
   },
   "outputs": [],
   "source": [
    "# Reference : https://stackoverflow.com/questions/56995350/best-practices-python-where-to-store-api-keys-tokens\n",
    "import tweepy\n",
    "import constants\n",
    "import csv\n",
    "\n",
    "\n",
    "# Initialise API authentication for Twitter Developer access\n",
    "twit_api_key = constants.api_key\n",
    "twit_api_secret = constants.api_secret\n",
    "access_token = constants.access_token\n",
    "access_token_secret = constants.access_secret\n",
    "\n",
    "auth = tweepy.OAuthHandler(twit_api_key, twit_api_secret)\n",
    "auth.set_access_token(access_token, access_token_secret)\n",
    "api = tweepy.API(auth,wait_on_rate_limit=True)"
   ]
  },
  {
   "cell_type": "code",
   "execution_count": 2,
   "id": "dca0b868",
   "metadata": {
    "ExecuteTime": {
     "end_time": "2022-01-06T03:36:28.367424Z",
     "start_time": "2022-01-06T03:36:25.519700Z"
    }
   },
   "outputs": [],
   "source": [
    "from bs4 import BeautifulSoup\n",
    "import requests\n",
    "\n",
    "# Initialise list to contain Malaysia cities\n",
    "city = []\n",
    "\n",
    "# Add city into the list from the following website\n",
    "page = requests.get(\"https://worldpopulationreview.com/countries/cities/malaysia\")\n",
    "soup = BeautifulSoup(page.content,'html.parser')\n",
    "for idx, link in enumerate(soup.find_all('td')):\n",
    "        if idx % 2 == 0:\n",
    "            city.append(link.string)"
   ]
  },
  {
   "cell_type": "code",
   "execution_count": 4,
   "id": "a30710bf",
   "metadata": {
    "ExecuteTime": {
     "end_time": "2022-01-06T03:42:54.396302Z",
     "start_time": "2022-01-06T03:41:49.109279Z"
    }
   },
   "outputs": [],
   "source": [
    "# Reference 1: https://dev.to/twitterdev/a-comprehensive-guide-for-using-the-twitter-api-v2-using-tweepy-in-python-15d9 \n",
    "# Reference 2: https://developer.twitter.com/en/docs/twitter-api/tweets/search/api-reference/get-tweets-search-recent\n",
    "from datetime import datetime, timedelta\n",
    "import os.path\n",
    "\n",
    "# Initialise permission to allow requests to scrape\n",
    "client = tweepy.Client(bearer_token = constants.bearer_token)\n",
    "\n",
    "# Initialise query to get recent tweets from users\n",
    "query = '#daruratbanjir OR #banjir2021 OR banjir Malaysia OR flood Malaysia'\n",
    "\n",
    "# Intialise time period of raw data wish to be extracted\n",
    "# 10 seconds due to Twitter API limitation - must be a minimum of 10 seconds prior to the request time.\n",
    "now = datetime.utcnow() - timedelta(seconds = 10)\n",
    "start_time = (now - timedelta(days = 6)).strftime('%Y-%m-%dT%H:%M:%SZ')\n",
    "end_time = now.strftime('%Y-%m-%dT%H:%M:%SZ')\n",
    "\n",
    "# Initalise an array to get tweets context which is returned as an array object\n",
    "d = []\n",
    "\n",
    "if os.path.exists('tweets.csv'):\n",
    "    # Open CSV file in append mode\n",
    "    with open('tweets.csv', 'a', encoding='UTF8', newline='') as f:\n",
    "\n",
    "        writer = csv.writer(f, delimiter = ',')\n",
    "    \n",
    "        # Use Paginator to get more than the max limits set by the search_recent_tweets function,excluding retweets\n",
    "        for tweet in tweepy.Paginator(client.search_recent_tweets, query=query,\n",
    "                                  tweet_fields=['context_annotations', 'created_at', 'geo'], \n",
    "                                  start_time=start_time, end_time=end_time,max_results=100).flatten(limit=10000):\n",
    "            if tweet.text.startswith(\"RT @\") == False:\n",
    "                # Intialise variables and write into CSV file    \n",
    "                a = tweet.text\n",
    "                b = tweet.created_at\n",
    "                c = tweet.geo\n",
    "                if len(tweet.context_annotations)>0:\n",
    "                    d = tweet.context_annotations\n",
    "                e = [ele for ele in city if(ele in a)]\n",
    "                writer.writerow([a,b,c,d,e])\n",
    "else:\n",
    "    # Open CSV file in write mode\n",
    "    with open('tweets.csv', 'w', encoding='UTF8', newline='') as f:\n",
    "        writer = csv.writer(f, delimiter = ',')\n",
    "    \n",
    "        # Initialise header\n",
    "        writer.writerow(['tweet_text', 'created_at','place','context_annotations','city'])\n",
    "    \n",
    "        # Use Paginator to get more than the max limits set by the search_recent_tweets function,excluding retweets\n",
    "        for tweet in tweepy.Paginator(client.search_recent_tweets, query=query,\n",
    "                                  tweet_fields=['context_annotations', 'created_at', 'geo'], \n",
    "                                  start_time=start_time, end_time=end_time,max_results=100).flatten(limit=10000):\n",
    "             if tweet.text.startswith(\"RT @\") == False:\n",
    "                # Intialise variables and write into CSV file    \n",
    "                a = tweet.text\n",
    "                b = tweet.created_at\n",
    "                c = tweet.geo\n",
    "                if len(tweet.context_annotations)>0:\n",
    "                    d = tweet.context_annotations\n",
    "                e = [ele for ele in city if(ele in a)]\n",
    "                writer.writerow([a,b,c,d,e])"
   ]
  },
  {
   "cell_type": "code",
   "execution_count": null,
   "id": "a3a1970b",
   "metadata": {
    "ExecuteTime": {
     "end_time": "2022-01-06T03:14:24.502057Z",
     "start_time": "2022-01-06T03:14:24.024209Z"
    }
   },
   "outputs": [],
   "source": [
    "# For adding the city to header because previously we did not add in\n",
    "# import csv\n",
    "\n",
    "# with open('tweets.csv',encoding='UTF8', newline='') as f:\n",
    "#     r = csv.reader(f)\n",
    "#     lines = list(r)\n",
    "\n",
    "# lines[0] = ['tweet_text', 'created_at','place','context_annotations','city']\n",
    "\n",
    "# with open('tweets.csv','w',encoding='UTF8', newline='') as f:\n",
    "#     w = csv.writer(f)\n",
    "#     w.writerows(lines)"
   ]
  },
  {
   "cell_type": "code",
   "execution_count": null,
   "id": "218ac6b9",
   "metadata": {},
   "outputs": [],
   "source": [
    "import pandas as pd\n",
    "\n",
    "# Load CSV into dataframe\n",
    "df = pd.read_csv ('tweets.csv')"
   ]
  },
  {
   "cell_type": "code",
   "execution_count": null,
   "id": "a15d9ecf",
   "metadata": {},
   "outputs": [],
   "source": [
    "df.head()"
   ]
  },
  {
   "cell_type": "code",
   "execution_count": null,
   "id": "24490ce0",
   "metadata": {},
   "outputs": [],
   "source": [
    "# Split timestamp into date and timestamp\n",
    "timestamp = df[\"created_at\"].str.split(\" \", n = 1, expand = True)\n",
    "df[\"date\"] = pd.to_datetime(timestamp[0])\n",
    "df[\"time\"] = timestamp[1]"
   ]
  },
  {
   "cell_type": "code",
   "execution_count": null,
   "id": "3c18a9f8",
   "metadata": {},
   "outputs": [],
   "source": [
    "# Group the tweets by date into new dataframe\n",
    "df_count = df.groupby(df.date.dt.floor('1D')).count()\n",
    "df_count"
   ]
  },
  {
   "cell_type": "code",
   "execution_count": null,
   "id": "2ea6702d",
   "metadata": {},
   "outputs": [],
   "source": [
    "# Convention for import of the pyplot interface\n",
    "import matplotlib.pyplot as plt\n",
    "\n",
    "# Set-up to have matplotlib use its support for notebook inline plots\n",
    "%matplotlib inline\n",
    "\n",
    "fig, ax = plt.subplots(figsize=(10, 6))\n",
    "\n",
    "# Specify how our lines should look\n",
    "ax.plot(df_count.tweet_text, color='tab:blue', label='Count')\n",
    "\n",
    "# Same as above\n",
    "ax.set_xlabel('Date')\n",
    "ax.set_ylabel('Count')\n",
    "ax.set_title('Flood-related Tweets')\n",
    "ax.grid(True)\n",
    "ax.legend(loc='upper left');"
   ]
  },
  {
   "cell_type": "code",
   "execution_count": null,
   "id": "be3a007e",
   "metadata": {},
   "outputs": [],
   "source": []
  }
 ],
 "metadata": {
  "kernelspec": {
   "display_name": "Python 3 (ipykernel)",
   "language": "python",
   "name": "python3"
  },
  "language_info": {
   "codemirror_mode": {
    "name": "ipython",
    "version": 3
   },
   "file_extension": ".py",
   "mimetype": "text/x-python",
   "name": "python",
   "nbconvert_exporter": "python",
   "pygments_lexer": "ipython3",
   "version": "3.8.12"
  }
 },
 "nbformat": 4,
 "nbformat_minor": 5
}
