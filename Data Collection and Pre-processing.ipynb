{
 "cells": [
  {
   "cell_type": "code",
   "execution_count": 1,
   "id": "790a804b",
   "metadata": {
    "ExecuteTime": {
     "end_time": "2022-01-01T14:34:34.301282Z",
     "start_time": "2022-01-01T14:34:34.108265Z"
    }
   },
   "outputs": [],
   "source": [
    "# Reference : https://stackoverflow.com/questions/56995350/best-practices-python-where-to-store-api-keys-tokens\n",
    "import tweepy\n",
    "import constants \n",
    "import csv\n",
    "\n",
    "# Initialise API authentication for Twitter Developer access\n",
    "twit_api_key = constants.api_key\n",
    "twit_api_secret = constants.api_secret\n",
    "access_token = constants.access_token\n",
    "access_token_secret = constants.access_secret\n",
    "\n",
    "auth = tweepy.OAuthHandler(twit_api_key, twit_api_secret)\n",
    "auth.set_access_token(access_token, access_token_secret)\n",
    "api = tweepy.API(auth,wait_on_rate_limit=True)"
   ]
  },
  {
   "cell_type": "code",
   "execution_count": 2,
   "id": "a30710bf",
   "metadata": {
    "ExecuteTime": {
     "end_time": "2022-01-01T14:34:59.563412Z",
     "start_time": "2022-01-01T14:34:34.304279Z"
    }
   },
   "outputs": [],
   "source": [
    "# Reference 1: https://dev.to/twitterdev/a-comprehensive-guide-for-using-the-twitter-api-v2-using-tweepy-in-python-15d9 \n",
    "# Reference 2: https://developer.twitter.com/en/docs/twitter-api/tweets/search/api-reference/get-tweets-search-recent\n",
    "\n",
    "# Initialise permission to allow requests to scrape\n",
    "client = tweepy.Client(bearer_token = constants.bearer_token)\n",
    "\n",
    "# Initialise query to get recent tweets from users, excluding retweets\n",
    "query = '#daruratbanjir -is:retweet'\n",
    "\n",
    "# Intialise time period of raw data wish to be extracted\n",
    "start_time = '2021-12-25T14:35:00Z'\n",
    "end_time = '2022-01-01T14:33:59Z'\n",
    "\n",
    "# Initalise an array to get tweets context which is returned as an array object\n",
    "d = []\n",
    "\n",
    "# Open CSV file in write mode\n",
    "with open('tweets.csv', 'w', encoding='UTF8', newline='') as f:\n",
    "    writer = csv.writer(f, delimiter = ',')\n",
    "    \n",
    "    # Initialise header\n",
    "    writer.writerow(['tweet_text', 'created_at','place','context_annotations'])\n",
    "    \n",
    "    # Use Paginator to get more than the max limits set by the search_recent_tweets function\n",
    "    for tweet in tweepy.Paginator(client.search_recent_tweets, query=query,\n",
    "                                  tweet_fields=['context_annotations', 'created_at', 'geo'], \n",
    "                                  start_time=start_time, end_time=end_time,max_results=100).flatten(limit=10000):\n",
    "    # Intialise variables and write into CSV file    \n",
    "        a = tweet.text\n",
    "        b = tweet.created_at\n",
    "        c = tweet.geo\n",
    "        if len(tweet.context_annotations)>0:\n",
    "            d = tweet.context_annotations\n",
    "        writer.writerow([a,b,c,d])"
   ]
  }
 ],
 "metadata": {
  "kernelspec": {
   "display_name": "Python 3 (ipykernel)",
   "language": "python",
   "name": "python3"
  },
  "language_info": {
   "codemirror_mode": {
    "name": "ipython",
    "version": 3
   },
   "file_extension": ".py",
   "mimetype": "text/x-python",
   "name": "python",
   "nbconvert_exporter": "python",
   "pygments_lexer": "ipython3",
   "version": "3.8.12"
  }
 },
 "nbformat": 4,
 "nbformat_minor": 5
}
